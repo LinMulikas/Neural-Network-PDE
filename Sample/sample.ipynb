{
 "cells": [
  {
   "cell_type": "code",
   "execution_count": 1,
   "metadata": {},
   "outputs": [],
   "source": [
    "import sys\n",
    "from os import path\n",
    "sys.path.append(path.dirname(path.dirname(path.abspath('__file__'))))"
   ]
  },
  {
   "cell_type": "code",
   "execution_count": 2,
   "metadata": {},
   "outputs": [
    {
     "name": "stderr",
     "output_type": "stream",
     "text": [
      "/opt/homebrew/lib/python3.9/site-packages/torch/nn/_reduction.py:42: UserWarning: size_average and reduce args will be deprecated, please use reduction='mean' instead.\n",
      "  warnings.warn(warning.format(ret))\n"
     ]
    }
   ],
   "source": [
    "from PINNS import *"
   ]
  },
  {
   "cell_type": "code",
   "execution_count": 3,
   "metadata": {},
   "outputs": [
    {
     "name": "stderr",
     "output_type": "stream",
     "text": [
      "/opt/homebrew/lib/python3.9/site-packages/torch/functional.py:504: UserWarning: torch.meshgrid: in an upcoming release, it will be required to pass the indexing argument. (Triggered internally at /Users/runner/work/pytorch/pytorch/pytorch/aten/src/ATen/native/TensorShape.cpp:3484.)\n",
      "  return _VF.meshgrid(tensors, **kwargs)  # type: ignore[attr-defined]\n"
     ]
    }
   ],
   "source": [
    "def u0(X: Tensor):\n",
    "    x = X[:, 1]\n",
    "    return th.sin(x).reshape((-1, 1))\n",
    "\n",
    "net = ANN((2, 1), (6, 6))\n",
    "pde = PDE_Square((0, 1), (0, 1), u0, 500)\n",
    "pinns = PINNS(net, pde)"
   ]
  },
  {
   "cell_type": "code",
   "execution_count": 4,
   "metadata": {},
   "outputs": [
    {
     "name": "stdout",
     "output_type": "stream",
     "text": [
      "Best save at Epoch 1, lr = 0.01, Epoch = 1\n",
      "-- Best loss = 0.2593541741. At Epoch 1\n",
      "\n",
      "Epoch 1, lr = 0.01\n",
      "-- Current loss = 0.2593541741\n",
      "-- Best loss = 0.2593541741. At Epoch 1\n",
      "\n",
      "Best save at Epoch 2, lr = 0.01, Epoch = 2\n",
      "-- Best loss = 0.2000094801. At Epoch 2\n",
      "\n",
      "Epoch 2, lr = 0.01\n",
      "-- Current loss = 0.2000094801\n",
      "-- Best loss = 0.2000094801. At Epoch 2\n",
      "\n",
      "Best save at Epoch 3, lr = 0.01, Epoch = 3\n",
      "-- Best loss = 0.171679616. At Epoch 3\n",
      "\n",
      "Epoch 3, lr = 0.01\n",
      "-- Current loss = 0.171679616\n",
      "-- Best loss = 0.171679616. At Epoch 3\n",
      "\n",
      "Best save at Epoch 4, lr = 0.01, Epoch = 4\n",
      "-- Best loss = 0.1671754867. At Epoch 4\n",
      "\n",
      "Epoch 4, lr = 0.01\n",
      "-- Current loss = 0.1671754867\n",
      "-- Best loss = 0.1671754867. At Epoch 4\n",
      "\n",
      "Epoch 5, lr = 0.01\n",
      "-- Current loss = 0.1760879755\n",
      "-- Best loss = 0.1671754867. At Epoch 4\n",
      "\n",
      "Epoch 6, lr = 0.01\n",
      "-- Current loss = 0.184712261\n",
      "-- Best loss = 0.1671754867. At Epoch 4\n",
      "\n",
      "Epoch 7, lr = 0.01\n",
      "-- Current loss = 0.1861605942\n",
      "-- Best loss = 0.1671754867. At Epoch 4\n",
      "\n",
      "Epoch 8, lr = 0.01\n",
      "-- Current loss = 0.1814591736\n",
      "-- Best loss = 0.1671754867. At Epoch 4\n",
      "\n",
      "Epoch 9, lr = 0.01\n",
      "-- Current loss = 0.1744271219\n",
      "-- Best loss = 0.1671754867. At Epoch 4\n",
      "\n",
      "Epoch 10, lr = 0.01\n",
      "-- Current loss = 0.1686418056\n",
      "-- Best loss = 0.1671754867. At Epoch 4\n",
      "\n"
     ]
    }
   ],
   "source": [
    "pinns.train(10)"
   ]
  }
 ],
 "metadata": {
  "kernelspec": {
   "display_name": "Python 3",
   "language": "python",
   "name": "python3"
  },
  "language_info": {
   "codemirror_mode": {
    "name": "ipython",
    "version": 3
   },
   "file_extension": ".py",
   "mimetype": "text/x-python",
   "name": "python",
   "nbconvert_exporter": "python",
   "pygments_lexer": "ipython3",
   "version": "3.9.16"
  },
  "orig_nbformat": 4
 },
 "nbformat": 4,
 "nbformat_minor": 2
}
