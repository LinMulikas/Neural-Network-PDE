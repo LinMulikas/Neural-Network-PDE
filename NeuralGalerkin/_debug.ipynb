{
 "cells": [
  {
   "cell_type": "code",
   "execution_count": 5,
   "metadata": {},
   "outputs": [],
   "source": [
    "import sys\n",
    "from os import path\n",
    "sys.path.append(path.dirname(path.dirname(path.abspath('__file__'))))\n",
    "from NeuralGalerkin import *\n",
    "from HeatNG import *\n",
    "from Drawer import Drawer\n",
    "\n",
    "heat = HeatNG((0, 1), (0, 1), 5000)\n",
    "\n",
    "best = 'models/best.pt'\n",
    "nil = ''\n",
    "\n",
    "net = Net(pde_size = (2, 1), \n",
    "          shape = (6, 16), \n",
    "          data = heat.data_generator(),\n",
    "          loadFile = best, lr = 1e-4)\n",
    "\n",
    "heat.setNet(net)\n",
    "NG = NeuralGalerkin(heat)"
   ]
  },
  {
   "cell_type": "code",
   "execution_count": 6,
   "metadata": {},
   "outputs": [],
   "source": []
  }
 ],
 "metadata": {
  "kernelspec": {
   "display_name": "base",
   "language": "python",
   "name": "python3"
  },
  "language_info": {
   "codemirror_mode": {
    "name": "ipython",
    "version": 3
   },
   "file_extension": ".py",
   "mimetype": "text/x-python",
   "name": "python",
   "nbconvert_exporter": "python",
   "pygments_lexer": "ipython3",
   "version": "3.10.4"
  },
  "orig_nbformat": 4
 },
 "nbformat": 4,
 "nbformat_minor": 2
}
