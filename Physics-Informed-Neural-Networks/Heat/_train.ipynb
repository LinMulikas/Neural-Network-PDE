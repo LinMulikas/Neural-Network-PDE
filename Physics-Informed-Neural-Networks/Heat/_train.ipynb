{
 "cells": [
  {
   "cell_type": "code",
   "execution_count": null,
   "metadata": {},
   "outputs": [],
   "source": [
    "import sys\n",
    "from os import path\n",
    "sys.path.append(path.dirname(path.dirname(path.abspath('__file__'))))\n",
    "from Heat import *\n",
    "from Drawer import Drawer"
   ]
  },
  {
   "cell_type": "code",
   "execution_count": null,
   "metadata": {},
   "outputs": [],
   "source": [
    "best = 'models/best.pt'\n",
    "nil = ''\n",
    "heat = Heat(t = (0, 1), x = (0, 1), N = 10000)\n",
    "net = Net(pde_size = (2, 1), \n",
    "          shape = (10, 20), \n",
    "          data = heat.data_generator(),\n",
    "          loadFile = best, lr = 1e-)\n",
    "\n",
    "\n",
    "heat.setNet(net)\n",
    "heat.net.train(100000)"
   ]
  }
 ],
 "metadata": {
  "kernelspec": {
   "display_name": "Python 3",
   "language": "python",
   "name": "python3"
  },
  "language_info": {
   "codemirror_mode": {
    "name": "ipython",
    "version": 3
   },
   "file_extension": ".py",
   "mimetype": "text/x-python",
   "name": "python",
   "nbconvert_exporter": "python",
   "pygments_lexer": "ipython3",
   "version": "3.9.16"
  },
  "orig_nbformat": 4
 },
 "nbformat": 4,
 "nbformat_minor": 2
}
