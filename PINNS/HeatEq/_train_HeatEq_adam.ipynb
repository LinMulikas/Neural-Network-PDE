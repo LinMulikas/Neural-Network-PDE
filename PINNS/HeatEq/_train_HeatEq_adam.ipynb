{
 "cells": [
  {
   "cell_type": "code",
   "execution_count": null,
   "metadata": {},
   "outputs": [],
   "source": [
    "from HeatEq import *\n",
    "net = PDENN(\n",
    "    input_size=2, output_size=1, hidden_depth=20, hidden_size=20, \n",
    "    lr = 1e-3)\n",
    "\n",
    "eq = HeatEq((0, 1), (0, 1), 10000, load_best=False, net=net)\n",
    "eq.train(20000)"
   ]
  }
 ],
 "metadata": {
  "kernelspec": {
   "display_name": "Python 3",
   "language": "python",
   "name": "python3"
  },
  "language_info": {
   "codemirror_mode": {
    "name": "ipython",
    "version": 3
   },
   "file_extension": ".py",
   "mimetype": "text/x-python",
   "name": "python",
   "nbconvert_exporter": "python",
   "pygments_lexer": "ipython3",
   "version": "3.9.16"
  },
  "orig_nbformat": 4
 },
 "nbformat": 4,
 "nbformat_minor": 2
}
