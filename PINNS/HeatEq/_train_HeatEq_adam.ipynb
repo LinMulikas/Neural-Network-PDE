{
 "cells": [
  {
   "cell_type": "code",
   "execution_count": 1,
   "metadata": {},
   "outputs": [
    {
     "ename": "RuntimeError",
     "evalue": "Tensors must have same number of dimensions: got 1 and 2",
     "output_type": "error",
     "traceback": [
      "\u001b[0;31m---------------------------------------------------------------------------\u001b[0m",
      "\u001b[0;31mRuntimeError\u001b[0m                              Traceback (most recent call last)",
      "Cell \u001b[0;32mIn[1], line 6\u001b[0m\n\u001b[1;32m      1\u001b[0m \u001b[39mfrom\u001b[39;00m \u001b[39mHeatEq\u001b[39;00m \u001b[39mimport\u001b[39;00m \u001b[39m*\u001b[39m\n\u001b[1;32m      2\u001b[0m net \u001b[39m=\u001b[39m PDENN(\n\u001b[1;32m      3\u001b[0m     input_size\u001b[39m=\u001b[39m\u001b[39m2\u001b[39m, output_size\u001b[39m=\u001b[39m\u001b[39m1\u001b[39m, hidden_depth\u001b[39m=\u001b[39m\u001b[39m20\u001b[39m, hidden_size\u001b[39m=\u001b[39m\u001b[39m20\u001b[39m, \n\u001b[1;32m      4\u001b[0m     lr \u001b[39m=\u001b[39m \u001b[39m1e-2\u001b[39m)\n\u001b[0;32m----> 6\u001b[0m eq \u001b[39m=\u001b[39m HeatEq((\u001b[39m0\u001b[39;49m, \u001b[39m1\u001b[39;49m), (\u001b[39m0\u001b[39;49m, \u001b[39m1\u001b[39;49m), \u001b[39m10000\u001b[39;49m, load_best\u001b[39m=\u001b[39;49m\u001b[39mFalse\u001b[39;49;00m, net\u001b[39m=\u001b[39;49mnet)\n\u001b[1;32m      7\u001b[0m eq\u001b[39m.\u001b[39mtrain(\u001b[39m20000\u001b[39m)\n",
      "File \u001b[0;32m~/Github/Neural-Network-PDE/PINNS/HeatEq/HeatEq.py:40\u001b[0m, in \u001b[0;36mHeatEq.__init__\u001b[0;34m(self, t, x, N, net, load_best, auto_lr)\u001b[0m\n\u001b[1;32m     36\u001b[0m \u001b[39mself\u001b[39m\u001b[39m.\u001b[39mpt2 \u001b[39m=\u001b[39m \u001b[39mself\u001b[39m\u001b[39m.\u001b[39mdU2[:, \u001b[39m0\u001b[39m]\n\u001b[1;32m     37\u001b[0m \u001b[39mself\u001b[39m\u001b[39m.\u001b[39mpx2 \u001b[39m=\u001b[39m \u001b[39mself\u001b[39m\u001b[39m.\u001b[39mdU2[:, \u001b[39m1\u001b[39m]\n\u001b[1;32m     39\u001b[0m \u001b[39mself\u001b[39m\u001b[39m.\u001b[39mIC \u001b[39m=\u001b[39m torch\u001b[39m.\u001b[39mcat((\n\u001b[0;32m---> 40\u001b[0m     torch\u001b[39m.\u001b[39mhstack((\n\u001b[1;32m     41\u001b[0m         torch\u001b[39m.\u001b[39marange(t[\u001b[39m0\u001b[39m], t[\u001b[39m1\u001b[39m], \u001b[39m1.0\u001b[39m\u001b[39m/\u001b[39mN)\u001b[39m.\u001b[39mreshape((\u001b[39m-\u001b[39m\u001b[39m1\u001b[39m, \u001b[39m1\u001b[39m)),\n\u001b[1;32m     42\u001b[0m         torch\u001b[39m.\u001b[39mzeros((N, \u001b[39m1\u001b[39m))\n\u001b[1;32m     43\u001b[0m         )), \n\u001b[1;32m     44\u001b[0m     torch\u001b[39m.\u001b[39mhstack((\n\u001b[1;32m     45\u001b[0m         Tensor(t[\u001b[39m0\u001b[39m] \u001b[39m+\u001b[39m (t[\u001b[39m1\u001b[39m] \u001b[39m-\u001b[39m t[\u001b[39m0\u001b[39m]) \u001b[39m*\u001b[39m np\u001b[39m.\u001b[39marray(pyDOE\u001b[39m.\u001b[39mlhs(\u001b[39m1\u001b[39m, N))),\n\u001b[1;32m     46\u001b[0m         torch\u001b[39m.\u001b[39mzeros((N, \u001b[39m1\u001b[39m))\n\u001b[1;32m     47\u001b[0m         ))\n\u001b[1;32m     48\u001b[0m     ))\n\u001b[1;32m     51\u001b[0m \u001b[39mself\u001b[39m\u001b[39m.\u001b[39mBC \u001b[39m=\u001b[39m torch\u001b[39m.\u001b[39mcat((BC_lhs, BC_rhs))\n",
      "\u001b[0;31mRuntimeError\u001b[0m: Tensors must have same number of dimensions: got 1 and 2"
     ]
    }
   ],
   "source": [
    "from HeatEq import *\n",
    "net = PDENN(\n",
    "    input_size=2, output_size=1, hidden_depth=20, hidden_size=20, \n",
    "    lr = 1e-2)\n",
    "\n",
    "eq = HeatEq((0, 1), (0, 1), 10000, load_best=False, net=net)\n",
    "eq.train(20000)"
   ]
  }
 ],
 "metadata": {
  "kernelspec": {
   "display_name": "Python 3",
   "language": "python",
   "name": "python3"
  },
  "language_info": {
   "codemirror_mode": {
    "name": "ipython",
    "version": 3
   },
   "file_extension": ".py",
   "mimetype": "text/x-python",
   "name": "python",
   "nbconvert_exporter": "python",
   "pygments_lexer": "ipython3",
   "version": "3.9.16"
  },
  "orig_nbformat": 4
 },
 "nbformat": 4,
 "nbformat_minor": 2
}
