{
 "cells": [
  {
   "cell_type": "code",
   "execution_count": 2,
   "metadata": {},
   "outputs": [
    {
     "ename": "TypeError",
     "evalue": "__init__() got an unexpected keyword argument 'load_best'",
     "output_type": "error",
     "traceback": [
      "\u001b[0;31m---------------------------------------------------------------------------\u001b[0m",
      "\u001b[0;31mTypeError\u001b[0m                                 Traceback (most recent call last)",
      "Cell \u001b[0;32mIn[2], line 9\u001b[0m\n\u001b[1;32m      3\u001b[0m \u001b[39mfrom\u001b[39;00m \u001b[39mmpl_toolkits\u001b[39;00m\u001b[39m.\u001b[39;00m\u001b[39mmplot3d\u001b[39;00m \u001b[39mimport\u001b[39;00m Axes3D\n\u001b[1;32m      5\u001b[0m net \u001b[39m=\u001b[39m PDENN(\n\u001b[1;32m      6\u001b[0m     input_size\u001b[39m=\u001b[39m\u001b[39m2\u001b[39m, output_size\u001b[39m=\u001b[39m\u001b[39m1\u001b[39m, hidden_depth\u001b[39m=\u001b[39m\u001b[39m20\u001b[39m, hidden_size\u001b[39m=\u001b[39m\u001b[39m20\u001b[39m, \n\u001b[1;32m      7\u001b[0m     lr \u001b[39m=\u001b[39m \u001b[39m1e-2\u001b[39m)\n\u001b[0;32m----> 9\u001b[0m best_model \u001b[39m=\u001b[39m HeatEq((\u001b[39m0\u001b[39;49m, \u001b[39m1\u001b[39;49m), (\u001b[39m0\u001b[39;49m, \u001b[39m1\u001b[39;49m), \u001b[39m10000\u001b[39;49m, load_best\u001b[39m=\u001b[39;49m\u001b[39mTrue\u001b[39;49;00m, net\u001b[39m=\u001b[39;49mnet)\n\u001b[1;32m     11\u001b[0m get_ipython()\u001b[39m.\u001b[39mrun_line_magic(\u001b[39m'\u001b[39m\u001b[39mmatplotlib\u001b[39m\u001b[39m'\u001b[39m, \u001b[39m'\u001b[39m\u001b[39minline\u001b[39m\u001b[39m'\u001b[39m)\n\u001b[1;32m     12\u001b[0m best_model\u001b[39m.\u001b[39mdrawReal(\u001b[39m500\u001b[39m, \u001b[39m'\u001b[39m\u001b[39mcoolwarm\u001b[39m\u001b[39m'\u001b[39m)\n",
      "\u001b[0;31mTypeError\u001b[0m: __init__() got an unexpected keyword argument 'load_best'"
     ]
    }
   ],
   "source": [
    "from HeatEq import *\n",
    "import matplotlib.pylab as plt\n",
    "from mpl_toolkits.mplot3d import Axes3D\n",
    "\n",
    "net = PDENN(\n",
    "    input_size=2, output_size=1, hidden_depth=20, hidden_size=20, \n",
    "    lr = 1e-2)\n",
    "\n",
    "best_model = HeatEq((0, 1), (0, 1), 10000, load_best=True, net=net)\n",
    "\n",
    "%matplotlib inline\n",
    "best_model.drawReal(500, 'coolwarm')"
   ]
  },
  {
   "cell_type": "code",
   "execution_count": null,
   "metadata": {},
   "outputs": [],
   "source": [
    "best_model.net.optim = best_model.net.adam"
   ]
  },
  {
   "cell_type": "code",
   "execution_count": null,
   "metadata": {},
   "outputs": [],
   "source": [
    "best_model.loadBestDict()\n",
    "best_model.drawPred(500, 'coolwarm')"
   ]
  },
  {
   "cell_type": "code",
   "execution_count": null,
   "metadata": {},
   "outputs": [],
   "source": [
    "best_model.loadBestDict()\n",
    "best_model.drawError(500, 'coolwarm')"
   ]
  },
  {
   "cell_type": "code",
   "execution_count": null,
   "metadata": {},
   "outputs": [],
   "source": [
    "best_model.loadBestDict()\n",
    "best_model.drawLossHistory()"
   ]
  },
  {
   "cell_type": "code",
   "execution_count": null,
   "metadata": {},
   "outputs": [],
   "source": [
    "best_model.loadBestDict()\n",
    "best_model.drawLossLast(150)"
   ]
  },
  {
   "cell_type": "code",
   "execution_count": null,
   "metadata": {},
   "outputs": [],
   "source": [
    "best_model.loadBestDict()\n",
    "best_model.drawLossLast(100)"
   ]
  }
 ],
 "metadata": {
  "kernelspec": {
   "display_name": "Python 3",
   "language": "python",
   "name": "python3"
  },
  "language_info": {
   "codemirror_mode": {
    "name": "ipython",
    "version": 3
   },
   "file_extension": ".py",
   "mimetype": "text/x-python",
   "name": "python",
   "nbconvert_exporter": "python",
   "pygments_lexer": "ipython3",
   "version": "3.9.16"
  },
  "orig_nbformat": 4
 },
 "nbformat": 4,
 "nbformat_minor": 2
}
